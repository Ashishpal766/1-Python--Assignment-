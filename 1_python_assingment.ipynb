{
  "nbformat": 4,
  "nbformat_minor": 0,
  "metadata": {
    "colab": {
      "provenance": []
    },
    "kernelspec": {
      "name": "python3",
      "display_name": "Python 3"
    },
    "language_info": {
      "name": "python"
    }
  },
  "cells": [
    {
      "cell_type": "markdown",
      "source": [],
      "metadata": {
        "id": "JURNpvl3QeGm"
      }
    },
    {
      "cell_type": "markdown",
      "source": [
        "1.Explain the key features of python that make it a popular choice for programming?\n",
        "\n",
        "Ans:- Python's popularity as a programming language stems from a compelling combination of features that make it accessible, versatile, and powerful. Here are some of its key features:\n",
        "\n",
        "1. Readability and Simplicity:\n",
        "\n",
        "Clean Syntax: Python has a very clear and concise syntax that resembles plain English. This reduces the learning curve significantly, making it easier for beginners to pick up and for experienced programmers to quickly understand and write code.\n",
        "\n",
        "2.  Extensive Standard Library:\n",
        "\n",
        "\"Batteries Included\": Python comes with a rich standard library that provides a wide range of modules and functions for various tasks, including file I/O, networking, web development, operating system interaction, and more. This reduces the need to write code from scratch for common functionalities.\n",
        "\n",
        "In summary, Python's popularity stems from its readability, simplicity, versatility, strong community support, and extensive libraries, making it an excellent choice for both beginners and experienced programmers across various domains."
      ],
      "metadata": {
        "id": "Xdvy45iZQg0w"
      }
    },
    {
      "cell_type": "markdown",
      "source": [
        "Q NO.2 Describe the role of predefined keywords in python and provide examples of how they are used in a program.\n",
        "\n",
        "Ans:- Describe the role of predefined keywords in python and provide examples of how they are used in a program.\n",
        "\n",
        "Key Roles of Predefined Keywords:\n",
        "\n",
        "Control Flow: Keywords like if, elif, else, for, while, break, continue, and return dictate the order in which statements are executed based on conditions or iterations.\n",
        "Defining Code Blocks: Keywords like def (for functions) and class (for classes) are used to define blocks of reusable code.\n",
        "Logical Operations: Keywords such as and, or, and not perform boolean logic.\n",
        "Data Types and Structures: Keywords like True, False, None, in, is, as (for aliasing), and with (for context management) relate to data values, membership testing, identity comparison, and resource handling.\n",
        "\n",
        "example"
      ],
      "metadata": {
        "id": "47gn039IRIZi"
      }
    },
    {
      "cell_type": "code",
      "source": [
        "age = 30\n",
        "if age < 15:\n",
        "    print(\"You are a minor.\")\n",
        "elif age >= 18 and age < 65:\n",
        "    print(\"You are an adult.\")\n",
        "else:\n",
        "    print(\"You are a senior citizen.\")"
      ],
      "metadata": {
        "colab": {
          "base_uri": "https://localhost:8080/"
        },
        "id": "WsLrYKInRRSt",
        "outputId": "f41f90f7-45d0-4513-a0a5-043f3fe74174"
      },
      "execution_count": 2,
      "outputs": [
        {
          "output_type": "stream",
          "name": "stdout",
          "text": [
            "You are an adult.\n"
          ]
        }
      ]
    },
    {
      "cell_type": "code",
      "source": [
        "weather = \"rainy\"\n",
        "if weather ==\"sunny\":\n",
        "  print(\"you will go to school\")\n",
        "\n",
        "else:\n",
        "  print(\"you will not go to school\")\n",
        "\n"
      ],
      "metadata": {
        "colab": {
          "base_uri": "https://localhost:8080/"
        },
        "id": "ozo_j0nmSJJl",
        "outputId": "98e6c288-d959-4627-a901-2fcc100e346e"
      },
      "execution_count": 5,
      "outputs": [
        {
          "output_type": "stream",
          "name": "stdout",
          "text": [
            "you will not go to school\n"
          ]
        }
      ]
    },
    {
      "cell_type": "markdown",
      "source": [
        "Q N0.3 Compare and contrast mutable and immutable objects in python with examples.\n",
        "\n",
        "Ans:-  Mutable Objects:\n",
        "\n",
        "Definition: Mutable objects are those whose internal state can be modified after they are created. This means you can change their values, add or remove elements, or modify their contents directly without creating a new object.\n",
        "Behavior: When you modify a mutable object, you are changing the object in place. If multiple variables refer to the same mutable object, the changes will be reflected in all of them.\n",
        "Examples:\n",
        ".list\n",
        ".dict (dictionary)\n",
        ".set\n",
        ".User-defined classes (generally mutable by default\n",
        "\n",
        "\n",
        "Immutable Objects:\n",
        "\n",
        "Definition: Immutable objects are those whose internal state cannot be changed after they are created. Any operation that appears to modify an immutable object actually creates a new object with the modified value. The original object remains unchanged.\n",
        "Behavior: When you perform an operation that seems to modify an immutable object, a new object is created in memory with the updated value, and the variable is then reassigned to point to this new object. The original object is left untouched.\n",
        "Examples:\n",
        ".int (integer)\n",
        ".float\n",
        ".bool (boolean)\n",
        ".str (string)\n",
        ".tuple\n",
        "\n"
      ],
      "metadata": {
        "id": "CWxw5ltRTF4b"
      }
    },
    {
      "cell_type": "code",
      "source": [
        "# example of mutable object\n",
        "dict1 = {'a': 1, 'b': 2}\n",
        "dict2 = dict1\n",
        "\n",
        "print(f\"Initial dict1: {dict1}\")\n",
        "print(f\"Initial dict2: {dict2}\")\n",
        "\n",
        "dict1['c'] = 3\n",
        "\n",
        "print(f\"Dict1 after modification: {dict1}\")\n",
        "print(f\"Dict2 after modification: {dict2}\")\n"
      ],
      "metadata": {
        "colab": {
          "base_uri": "https://localhost:8080/"
        },
        "id": "WlBIIv9bUTQ5",
        "outputId": "003719f8-e696-47b1-c7ef-b84fe4c21e89"
      },
      "execution_count": 10,
      "outputs": [
        {
          "output_type": "stream",
          "name": "stdout",
          "text": [
            "Initial dict1: {'a': 1, 'b': 2}\n",
            "Initial dict2: {'a': 1, 'b': 2}\n",
            "Dict1 after modification: {'a': 1, 'b': 2, 'c': 3}\n",
            "Dict2 after modification: {'a': 1, 'b': 2, 'c': 3}\n"
          ]
        }
      ]
    },
    {
      "cell_type": "code",
      "source": [
        "# example of immutable object\n",
        "x = 10\n",
        "y = x\n",
        "\n",
        "print(f\"Initial x: {x}, id(x): {id(x)}\")\n",
        "print(f\"Initial y: {y}, id(y): {id(y)}\")\n",
        "\n",
        "x = 20\n",
        "\n",
        "print(f\"After reassignment of x: x = {x}, id(x): {id(x)}\")\n",
        "print(f\"After reassignment of x: y = {y}, id(y): {id(y)}\")\n",
        "\n",
        "print(\"-\" * 20)"
      ],
      "metadata": {
        "colab": {
          "base_uri": "https://localhost:8080/"
        },
        "id": "vvpQPxGhWNRv",
        "outputId": "0b9a51c6-bb72-4547-9feb-eacd88116150"
      },
      "execution_count": 11,
      "outputs": [
        {
          "output_type": "stream",
          "name": "stdout",
          "text": [
            "Initial x: 10, id(x): 10751144\n",
            "Initial y: 10, id(y): 10751144\n",
            "After reassignment of x: x = 20, id(x): 10751464\n",
            "After reassignment of x: y = 10, id(y): 10751144\n",
            "--------------------\n"
          ]
        }
      ]
    },
    {
      "cell_type": "markdown",
      "source": [
        "Q N0.4 Discuss the different types of operator in python and provide examples of how they are used.\n",
        "\n",
        "Ans:- In Python, operators are special symbols that perform operations on operands (values or variables). Python supports a wide range of operators to perform various tasks, from basic arithmetic to more complex logical and bitwise manipulations. Here's a discussion of the different types of operators in Python with examples:\n",
        "\n",
        "1. Arithmetic Operators:\n",
        "\n",
        "These operators perform mathematical calculations.\n",
        "\n",
        "Operator\tName\tExample\tResult\n",
        "+\tAddition\t3 + 5\t8\n",
        "-\tSubtraction\t10 - 4\t6\n",
        "*\tMultiplication\t6 * 7\t42\n",
        "/\tDivision\t15 / 3\t5.0\n",
        "//\tFloor Division\t15 // 3\t5\n",
        "//\tFloor Division\t16 // 3\t5\n",
        "%\tModulus (remainder)\t17 % 5\t2\n",
        "**\tExponentiation\t2 ** 3\t8\n",
        "\n",
        "2. Comparison (Relational) Operators:\n",
        "\n",
        "These operators compare two operands and return a boolean value (True or False).\n",
        "\n",
        "Operator\tName\tExample\tResult\n",
        "==\tEqual to\t5 == 5\tTrue\n",
        "!=\tNot equal to\t5 != 6\tTrue\n",
        ">\tGreater than\t8 > 3\tTrue\n",
        "<\tLess than\t2 < 7\tTrue\n",
        ">=\tGreater than or equal to\t5 >= 5\tTrue\n",
        "<=\tLess than or equal to\t4 <= 6\tTrue\n",
        "\n",
        "3. Logical Operators:\n",
        "\n",
        "These operators are used to combine or modify boolean values.\n",
        "\n",
        "Operator\tName\tExample\tResult (assuming p = True, q = False)\n",
        "and\tAND\tp and q\tFalse\n",
        "or\tOR\tp or q\tTrue\n",
        "not\tNOT\tnot p\tFalse"
      ],
      "metadata": {
        "id": "YSPUb9pnWz8v"
      }
    },
    {
      "cell_type": "code",
      "source": [
        "a = 10\n",
        "b = 3\n",
        "\n",
        "print(f\"Addition: {a + b}\")\n",
        "print(f\"Subtraction: {a - b}\")\n",
        "print(f\"Multiplication: {a * b}\")"
      ],
      "metadata": {
        "colab": {
          "base_uri": "https://localhost:8080/"
        },
        "id": "OnK-tkCLX3Hk",
        "outputId": "681ef980-ec50-4c29-fb4d-9cbcfa0eb74b"
      },
      "execution_count": 14,
      "outputs": [
        {
          "output_type": "stream",
          "name": "stdout",
          "text": [
            "Addition: 13\n",
            "Subtraction: 7\n",
            "Multiplication: 30\n"
          ]
        }
      ]
    },
    {
      "cell_type": "code",
      "source": [
        "# example of comparision operator\n",
        "x = 7\n",
        "y = 10\n",
        "\n",
        "print(f\"Is x equal to y? {x == y}\")\n",
        "print(f\"Is x not equal to y? {x != y}\")\n",
        "print(f\"Is x greater than y? {x > y}\")\n",
        "print(f\"Is x less than y? {x < y}\")"
      ],
      "metadata": {
        "colab": {
          "base_uri": "https://localhost:8080/"
        },
        "id": "hiGpMa17YKos",
        "outputId": "465bb836-fedb-437e-d415-acbd254b5d11"
      },
      "execution_count": 15,
      "outputs": [
        {
          "output_type": "stream",
          "name": "stdout",
          "text": [
            "Is x equal to y? False\n",
            "Is x not equal to y? True\n",
            "Is x greater than y? False\n",
            "Is x less than y? True\n"
          ]
        }
      ]
    },
    {
      "cell_type": "code",
      "source": [
        "# exaple of logical opertor\n",
        "p = True\n",
        "q = False\n",
        "\n",
        "print(f\"p and q: {p and q}\")\n",
        "print(f\"p or q: {p or q}\")\n",
        "print(f\"not p: {not p}\")\n",
        "print(f\"not q: {not q}\")"
      ],
      "metadata": {
        "colab": {
          "base_uri": "https://localhost:8080/"
        },
        "id": "a0aPY7t1YgyF",
        "outputId": "8cc9d5b5-b04e-4ab6-a380-da6a719fc413"
      },
      "execution_count": 16,
      "outputs": [
        {
          "output_type": "stream",
          "name": "stdout",
          "text": [
            "p and q: False\n",
            "p or q: True\n",
            "not p: False\n",
            "not q: True\n"
          ]
        }
      ]
    },
    {
      "cell_type": "markdown",
      "source": [
        "Q NO.5 Explain the concept of type casting in python with examples.\n",
        "\n",
        "Ans:-  Type casting, also known as type conversion, is the process of changing the data type of a variable from one type to another. Python is a dynamically-typed language, which means you don't explicitly declare the data type of a variable. However, there are situations where you need to explicitly convert a value from one type to another to perform certain operations or to meet specific requirements.\n",
        "\n",
        "Python provides built-in functions to perform type casting. These functions take the value to be converted as an argument and return a new object of the desired type.\n"
      ],
      "metadata": {
        "id": "aYveUyL-YyQ5"
      }
    },
    {
      "cell_type": "code",
      "source": [
        "num_int = 10\n",
        "num_float = 3.5\n",
        "\n",
        "sum_result = num_int + num_float\n",
        "\n",
        "print(\"Data type of num_int:\", type(num_int))\n",
        "print(\"Data type of num_float:\", type(num_float))\n",
        "print(\"Value of sum_result:\", sum_result)\n",
        "print(\"Data type of sum_result:\", type(sum_result))"
      ],
      "metadata": {
        "colab": {
          "base_uri": "https://localhost:8080/"
        },
        "id": "P5gmP4fZZpvi",
        "outputId": "ce2142f9-0d67-4ecf-f642-9c1276399899"
      },
      "execution_count": 17,
      "outputs": [
        {
          "output_type": "stream",
          "name": "stdout",
          "text": [
            "Data type of num_int: <class 'int'>\n",
            "Data type of num_float: <class 'float'>\n",
            "Value of sum_result: 13.5\n",
            "Data type of sum_result: <class 'float'>\n"
          ]
        }
      ]
    },
    {
      "cell_type": "code",
      "source": [
        "a=5\n",
        "b= float(a)\n",
        "print(b)"
      ],
      "metadata": {
        "colab": {
          "base_uri": "https://localhost:8080/"
        },
        "id": "bsVwTaE_Zwg2",
        "outputId": "ff7db2ec-94e1-40d6-96f8-8fdea62b92a9"
      },
      "execution_count": 20,
      "outputs": [
        {
          "output_type": "stream",
          "name": "stdout",
          "text": [
            "5.0\n"
          ]
        }
      ]
    },
    {
      "cell_type": "markdown",
      "source": [
        "Q NO.6 How conditional statements work in python with examples.\n",
        "\n",
        "Ans:- Conditional statements in Python allow you to execute different blocks of code based on whether certain conditions are true or false. They provide a way to make decisions within your program, enabling it to respond dynamically to different inputs and situations. The primary conditional statements in Python are if, elif (else if), and else\n"
      ],
      "metadata": {
        "id": "Z11RDuXKaHWD"
      }
    },
    {
      "cell_type": "code",
      "source": [
        "# example of conditional statement\n",
        "age = 30\n",
        "if age < 15:\n",
        "    print(\"You are a minor.\")\n",
        "elif age >= 18 and age < 65:\n",
        "    print(\"You are an adult.\")\n",
        "else:\n",
        "    print(\"You are a senior citizen.\")"
      ],
      "metadata": {
        "colab": {
          "base_uri": "https://localhost:8080/"
        },
        "id": "54o4upm6amrf",
        "outputId": "cf58bb1e-974d-45b3-db23-ec4ffce865a3"
      },
      "execution_count": 22,
      "outputs": [
        {
          "output_type": "stream",
          "name": "stdout",
          "text": [
            "You are an adult.\n"
          ]
        }
      ]
    },
    {
      "cell_type": "markdown",
      "source": [
        "Q NO.7 Describe the different types of loop in python and their use cases with examples.\n",
        "\n",
        "Ans:- In Python, loops are used to execute a block of code repeatedly until a certain condition is met. Python provides two primary types of loops: for loops and while loops.\n",
        "\n",
        "1. for Loops:\n",
        "\n",
        "Use Case: for loops are primarily used to iterate over a sequence (like a list, tuple, string) or other iterable objects (like dictionaries, sets, ranges). They execute a block of code for each item in the sequence or iterable.\n",
        "\n",
        "2. while Loops:\n",
        "\n",
        "Use Case: while loops are used to repeatedly execute a block of code as long as a specified condition remains True. They are useful when you don't know in advance how many times you need to iterate."
      ],
      "metadata": {
        "id": "RlnQfAsNa93n"
      }
    },
    {
      "cell_type": "code",
      "source": [
        "# example of for loop\n",
        "message = \"Hello\"\n",
        "for char in message:\n",
        "    print(char)"
      ],
      "metadata": {
        "colab": {
          "base_uri": "https://localhost:8080/"
        },
        "id": "iwzqBwembf7n",
        "outputId": "caa9d468-15d8-42ae-fd23-c911257251a7"
      },
      "execution_count": 23,
      "outputs": [
        {
          "output_type": "stream",
          "name": "stdout",
          "text": [
            "H\n",
            "e\n",
            "l\n",
            "l\n",
            "o\n"
          ]
        }
      ]
    },
    {
      "cell_type": "code",
      "source": [
        "# example of while loop\n",
        "count = 0\n",
        "while count < 5:\n",
        "    print(f\"Count is: {count}\")\n",
        "    count += 1\n",
        "else:\n",
        "    print(\"Loop finished normally.\")"
      ],
      "metadata": {
        "colab": {
          "base_uri": "https://localhost:8080/"
        },
        "id": "CXVbrchPbqEu",
        "outputId": "f663e77d-d01b-4022-8bb5-2c72d7825f6b"
      },
      "execution_count": 24,
      "outputs": [
        {
          "output_type": "stream",
          "name": "stdout",
          "text": [
            "Count is: 0\n",
            "Count is: 1\n",
            "Count is: 2\n",
            "Count is: 3\n",
            "Count is: 4\n",
            "Loop finished normally.\n"
          ]
        }
      ]
    }
  ]
}